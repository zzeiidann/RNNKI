{
 "cells": [
  {
   "cell_type": "code",
   "execution_count": null,
   "id": "fc97c19f",
   "metadata": {},
   "outputs": [
    {
     "name": "stdout",
     "output_type": "stream",
     "text": [
      "✅ wrote TextGen500.txt | lines: 500\n"
     ]
    }
   ],
   "source": [
    "# sample_lines.py\n",
    "import random, re, pathlib\n",
    "\n",
    "SRC = \"TextGen.txt\"\n",
    "DST = \"TextGen500.txt\"\n",
    "SEED = 42\n",
    "N_LINES = 500            # ubah sesuai kebutuhan\n",
    "KEEP_ORDER = False      # True = urutan asli, False = acak\n",
    "\n",
    "random.seed(SEED)\n",
    "\n",
    "# baca\n",
    "with open(SRC, encoding=\"utf-8\") as f:\n",
    "    raw = [l.rstrip(\"\\n\") for l in f]\n",
    "\n",
    "# bersihin & filter stage directions\n",
    "clean = []\n",
    "for s in raw:\n",
    "    s = s.strip().strip('\"')\n",
    "    if not s:\n",
    "        continue\n",
    "    if re.match(r'^(ACT|SCENE|Enter|Exit|Exeunt)\\b', s, re.I):\n",
    "        continue\n",
    "    if re.match(r\"^[A-Z ,.\\-']{10,}$\", s):  # full caps stage directions\n",
    "        continue\n",
    "    clean.append(s)\n",
    "\n",
    "# sampling\n",
    "if not KEEP_ORDER:\n",
    "    random.shuffle(clean)\n",
    "pick = clean[:min(N_LINES, len(clean))]\n",
    "\n",
    "# tulis: SATU KALIMAT PER BARIS (bukan digabung 1 baris)\n",
    "pathlib.Path(\"data\").mkdir(exist_ok=True)\n",
    "with open(DST, \"w\", encoding=\"utf-8\") as f:\n",
    "    for line in pick:\n",
    "        f.write(line + \"\\n\")\n",
    "\n",
    "print(f\" wrote {DST} | lines: {len(pick)}\")\n"
   ]
  },
  {
   "cell_type": "code",
   "execution_count": null,
   "id": "c341ec4d",
   "metadata": {},
   "outputs": [],
   "source": []
  }
 ],
 "metadata": {
  "kernelspec": {
   "display_name": "base",
   "language": "python",
   "name": "python3"
  },
  "language_info": {
   "codemirror_mode": {
    "name": "ipython",
    "version": 3
   },
   "file_extension": ".py",
   "mimetype": "text/x-python",
   "name": "python",
   "nbconvert_exporter": "python",
   "pygments_lexer": "ipython3",
   "version": "3.11.9"
  }
 },
 "nbformat": 4,
 "nbformat_minor": 5
}
